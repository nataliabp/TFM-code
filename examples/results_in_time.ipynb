{
 "cells": [
  {
   "cell_type": "code",
   "execution_count": 1,
   "metadata": {},
   "outputs": [],
   "source": [
    "import numpy as np\n",
    "import os\n",
    "import matplotlib.pyplot as plt\n",
    "from scipy.stats import sem"
   ]
  },
  {
   "cell_type": "code",
   "execution_count": 2,
   "metadata": {},
   "outputs": [
    {
     "data": {
      "text/plain": [
       "[0.83475, 2.0, 4.0, 6.0]"
      ]
     },
     "execution_count": 2,
     "metadata": {},
     "output_type": "execute_result"
    }
   ],
   "source": [
    "root= r'C:\\Users\\natal\\OneDrive\\Documentos\\MASTER\\TFM\\Simulations'\n",
    "area_path = os.path.join(root, 'hola.txt')\n",
    "with open(area_path,'r') as area_file:\n",
    "    data= area_file.read().split(',')\n",
    "    a = [float(item) for item in data]\n",
    "a\n"
   ]
  },
  {
   "cell_type": "code",
   "execution_count": 3,
   "metadata": {},
   "outputs": [],
   "source": [
    "def read_results(noise,dim,date, nsim, m):\n",
    "    mutant_cells_levels= np.arange(0, 0.45, 0.025)\n",
    "    a =[]; e =[]; ld =[]; ad =[]; te =[]; si =[]\n",
    "    root= r'C:\\Users\\natal\\OneDrive\\Documentos\\MASTER\\TFM\\Simulations'\n",
    "    # path_date = os.path.join(root, date)\n",
    "    # path_noise = os.path.join(path_date, noise)\n",
    "    \n",
    "\n",
    "    level_mutant = str('%0.3f'%m)\n",
    "\n",
    "    # ENTER SIMULATION FOLDER specific nsim and specific level of mutant cells \n",
    "    folder ='sim_time_'+ level_mutant +'_'+dim+'_'+noise+'_'+date\n",
    "    path_folder = os.path.join(root, folder)\n",
    "    \n",
    "        \n",
    "    # READ AREA \n",
    "    area_path = os.path.join(path_folder, 'area.txt')\n",
    "    with open(area_path,'r') as area_file: \n",
    "        #data= area_file.read().split('\\n')\n",
    "        lines = area_file.readlines()\n",
    "        a = [float(line.strip()) for line in lines]\n",
    "    area_path_std = os.path.join(path_folder, 'area_std.txt')\n",
    "    with open(area_path_std,'r') as area_file:\n",
    "        lines = area_file.readlines()\n",
    "        a_std = [float(line.strip()) for line in lines]\n",
    "\n",
    "    # READ EDGES LENGTH\n",
    "    edges_path = os.path.join(path_folder, 'edges_length.txt')\n",
    "    with open(edges_path,'r') as edges_file:\n",
    "        lines = edges_file.readlines()\n",
    "        e = [float(line.strip()) for line in lines]\n",
    "    edges_path_std = os.path.join(path_folder, 'edges_length_std.txt')\n",
    "    with open(edges_path_std,'r') as edges_file:\n",
    "        lines = edges_file.readlines()\n",
    "        e_std = [float(line.strip()) for line in lines]\n",
    "\n",
    "    # READ LENGTH DISTORTION\n",
    "    ld_path = os.path.join(path_folder, 'length_distortion.txt')\n",
    "    with open(ld_path,'r') as ld_file:\n",
    "        lines = ld_file.readlines()\n",
    "        ld = [float(line.strip()) for line in lines]\n",
    "    ld_path_std = os.path.join(path_folder, 'length_distortion_std.txt')\n",
    "    with open(ld_path_std,'r') as ld_file:\n",
    "        lines = ld_file.readlines()\n",
    "        ld_std = [float(line.strip()) for line in lines]\n",
    "  \n",
    "  \n",
    "    # READ ANGLE DISTORTION\n",
    "    ad_path = os.path.join(path_folder, 'angle_distortion.txt')\n",
    "    with open(ad_path,'r') as ad_file:\n",
    "        lines = ad_file.readlines()\n",
    "        ad = [float(line.strip()) for line in lines]\n",
    "    ad_path_std = os.path.join(path_folder, 'angle_distortion_std.txt')\n",
    "    with open(ad_path_std,'r') as ad_file:\n",
    "        lines = ad_file.readlines()\n",
    "        ad_std = [float(line.strip()) for line in lines]\n",
    "\n",
    "    # READ TIME EXTRUSION\n",
    "    te_path = os.path.join(path_folder, 'time_extrusion.txt')\n",
    "    with open(te_path,'r') as te_file:\n",
    "        te_string= te_file.read()\n",
    "    t_ext =float(te_string)\n",
    "    te.append(t_ext)\n",
    "\n",
    "    # READ SHAPE INDEX\n",
    "    si_path = os.path.join(path_folder, 'shape_index.txt')\n",
    "    with open(si_path,'r') as si_file:\n",
    "        lines = si_file.readlines()\n",
    "        si = [float(line.strip()) for line in lines]\n",
    "    si_path_std = os.path.join(path_folder, 'shape_index_std.txt')\n",
    "    with open(si_path_std,'r') as si_file:\n",
    "        lines = si_file.readlines()\n",
    "        si_std = [float(line.strip()) for line in lines]\n",
    "    \n",
    "    return a, a_std, e,e_std, ad,ad_std, ld,ld_std, si, si_std, te"
   ]
  },
  {
   "cell_type": "code",
   "execution_count": 18,
   "metadata": {},
   "outputs": [
    {
     "name": "stdout",
     "output_type": "stream",
     "text": [
      "150\n",
      "[0.0, 0.0, 0.0, 0.0, 0.0, 0.0, 0.0, 0.0, 0.0, 0.0, 0.0, 0.0, 0.0, 0.0, 0.0, 0.0, 0.0, 0.0, 0.0, 0.0, 0.0, 0.0, 0.0, 0.0, 0.0, 0.0, 0.0, 0.0, 0.0, 0.0, 0.0, 0.0, 0.0, 0.0, 0.0, 0.0, 0.0, 0.0, 0.0, 0.0, 0.0, 0.0, 0.0, 0.0, 0.0, 0.0, 0.0, 0.0, 0.0, 0.0, 0.0, 0.0, 0.0, 0.0, 0.0, 0.0, 0.0, 0.0, 0.0, 0.0, 0.0, 0.0, 0.0, 0.0, 0.0, 0.0, 0.0, 0.0, 0.0, 0.0, 0.0, 0.0, 0.0, 0.0, 0.0, 0.0, 0.0, 0.0, 0.0, 0.0, 0.0, 0.0, 0.0, 0.0, 0.0, 0.0, 0.0, 0.0, 0.0, 0.0, 0.0, 0.0, 0.0, 0.0, 0.0, 0.0, 0.0, 0.0, 0.0, 0.0, 0.0, 0.0, 0.0, 0.0, 0.0, 0.0, 0.0, 0.0, 0.0, 0.0, 0.0, 0.0, 0.0, 0.0, 0.0, 0.0, 0.0, 0.0, 0.0, 0.0, 0.0, 0.0, 0.0, 0.0, 0.0, 0.0, 0.0, 0.0, 0.0, 0.0, 0.0, 0.0, 0.0, 0.0, 0.0, 0.0, 0.0, 0.0, 0.0, 0.0, 0.0, 0.0, 0.0, 0.0, 0.0, 0.0, 0.0, 0.0, 0.0, 0.0]\n",
      "[3000.0]\n"
     ]
    },
    {
     "data": {
      "image/png": "[encoded data removed]",
      "text/plain": [
       "<Figure size 640x480 with 1 Axes>"
      ]
     },
     "metadata": {},
     "output_type": "display_data"
    }
   ],
   "source": [
    "a, a_std, e,e_std, ad,ad_std, ld,ld_std, si, si_std, te = read_results('0','18','4sep', 1, 0.150)\n",
    "print(len(a))\n",
    "t = np.arange(0, 3000, 20); plt.axvline(x = te[0])\n",
    "print(a_std)\n",
    "plt.plot(t, a)\n",
    "print(te)"
   ]
  }
 ],
 "metadata": {
  "kernelspec": {
   "display_name": "Python 3",
   "language": "python",
   "name": "python3"
  },
  "language_info": {
   "codemirror_mode": {
    "name": "ipython",
    "version": 3
   },
   "file_extension": ".py",
   "mimetype": "text/x-python",
   "name": "python",
   "nbconvert_exporter": "python",
   "pygments_lexer": "ipython3",
   "version": "3.10.10"
  },
  "orig_nbformat": 4
 },
 "nbformat": 4,
 "nbformat_minor": 2
}
