{
 "cells": [
  {
   "cell_type": "code",
   "execution_count": 1,
   "metadata": {},
   "outputs": [],
   "source": [
    "import itertools\n",
    "#get_ipython().magic(u'matplotlib inline')\n",
    "import numpy as np\n",
    "import matplotlib\n",
    "#%matplotlib qt5\n",
    "import matplotlib.pyplot as plt\n",
    "from matplotlib import animation, rc\n",
    "from IPython.display import HTML\n",
    "import vertex_model as model\n",
    "from vertex_model.run_select import run_simulation_INM, definecolors\n",
    "import vertex_model.initialisation as init"
   ]
  },
  {
   "cell_type": "code",
   "execution_count": 2,
   "metadata": {},
   "outputs": [
    {
     "name": "stdout",
     "output_type": "stream",
     "text": [
      "0.001\n"
     ]
    }
   ],
   "source": [
    "#### Parameter used in the simulation are picked up form Gobal_Constant.py file\n",
    "\n",
    "### Choose simulation to run\n",
    "# def run_simulation_INM(x, timend,rand, type):\n",
    "#     sim_type 0 simulation_with_division_clone (no differentiation rate)\n",
    "#     sim_type 1 simulation_with_division_clone_differentiation (all differentiation rate)\n",
    "#     sim_type 2 simulation_with_division_clone_differenciation_3stripes (2 population with and without diffentiation rate)\n",
    "#     sim_type 3 simulation_with_division_clone_whole_tissue_differenciation (differentiation rate everywhere)\n",
    "\n",
    "#use type 2 and parameter i=4 for floor plate\n",
    "type_=2\n",
    "L_point = [-.4, -0.2,-0.3, -0.05, 0.075, 0.15]\n",
    "G_point = [0.14, 0.12, 0.1, 0.065, 0.04, 0.02]\n",
    "i=4\n",
    "G=G_point[i]\n",
    "L=L_point[i]\n",
    "K=1.0\n",
    "#run simulation with the choosen parameters\n",
    "rand =  np.random.RandomState() #random number to choose Lambda\n",
    "params = [K,G,L]  # K=x[0],G=x[1],L=x[2]\n",
    "history= run_simulation_INM(params,300,rand,type_) #return hist\n"
   ]
  },
  {
   "cell_type": "code",
   "execution_count": 4,
   "metadata": {},
   "outputs": [
    {
     "ename": "NameError",
     "evalue": "name 'history' is not defined",
     "output_type": "error",
     "traceback": [
      "\u001b[1;31m---------------------------------------------------------------------------\u001b[0m",
      "\u001b[1;31mNameError\u001b[0m                                 Traceback (most recent call last)",
      "Cell \u001b[1;32mIn[4], line 12\u001b[0m\n\u001b[0;32m      7\u001b[0m     colors \u001b[39m=\u001b[39m cells\u001b[39m.\u001b[39mproperties[\u001b[39m'\u001b[39m\u001b[39mparent_group\u001b[39m\u001b[39m'\u001b[39m]\n\u001b[0;32m      9\u001b[0m     \u001b[39mreturn\u001b[39;00m palette[colors]\n\u001b[1;32m---> 12\u001b[0m \u001b[39mfor\u001b[39;00m cells \u001b[39min\u001b[39;00m history:\n\u001b[0;32m     13\u001b[0m     cells\u001b[39m.\u001b[39mproperties[\u001b[39m'\u001b[39m\u001b[39mcolor\u001b[39m\u001b[39m'\u001b[39m] \u001b[39m=\u001b[39m definecolors(cells,sampleset)\n",
      "\u001b[1;31mNameError\u001b[0m: name 'history' is not defined"
     ]
    }
   ],
   "source": [
    "def definecolors(cells):\n",
    "    peach = '#eed5b7'\n",
    "    light_blue ='#87cefa'\n",
    "    pink = '#ffc0cb'\n",
    "    light_green = '#98fb98'\n",
    "    palette = np.array([peach,'g',peach, 'r',peach,'g',peach])\n",
    "    colors = cells.properties['parent_group']\n",
    "\n",
    "    return palette[colors]\n",
    "\n",
    "\n",
    "for cells in history:\n",
    "    cells.properties['color'] = definecolors(cells,sampleset)\n",
    "\n"
   ]
  },
  {
   "cell_type": "code",
   "execution_count": null,
   "metadata": {},
   "outputs": [],
   "source": [
    "fig=plt.figure()\n",
    "ax = fig.gca()\n",
    "# initialization function: plot the background of each frame\n",
    "def init_fig():\n",
    "    ax = plt.figure()\n",
    "    return (ax,)\n",
    "# animation function. This is called sequentially\n",
    "def animate_fig(i):\n",
    "    cells_array=history\n",
    "    v_max = np.max((np.max(cells_array[0].mesh.vertices), np.max(cells_array[-1].mesh.vertices)))\n",
    "    size = 2.0*v_max\n",
    "    cells= history[i]\n",
    "    return model.draw(cells,ax,size)\n",
    "# call the animator. blit=True means only re-draw the parts that have changed.\n",
    "anim = animation.FuncAnimation(fig,animate_fig, init_func=init_fig,\n",
    "                               frames=len(history))\n",
    "\n",
    "\n",
    "\n",
    "\n"
   ]
  },
  {
   "cell_type": "code",
   "execution_count": null,
   "metadata": {},
   "outputs": [],
   "source": [
    "HTML(anim.to_html5_video())"
   ]
  },
  {
   "cell_type": "code",
   "execution_count": null,
   "metadata": {},
   "outputs": [],
   "source": []
  }
 ],
 "metadata": {
  "kernelspec": {
   "display_name": "Python 3 (ipykernel)",
   "language": "python",
   "name": "python3"
  },
  "language_info": {
   "codemirror_mode": {
    "name": "ipython",
    "version": 3
   },
   "file_extension": ".py",
   "mimetype": "text/x-python",
   "name": "python",
   "nbconvert_exporter": "python",
   "pygments_lexer": "ipython3",
   "version": "3.10.10"
  }
 },
 "nbformat": 4,
 "nbformat_minor": 2
}
